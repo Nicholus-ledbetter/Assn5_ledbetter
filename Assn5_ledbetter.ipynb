{
 "cells": [
  {
   "cell_type": "markdown",
   "metadata": {},
   "source": [
    "#Part 1"
   ]
  },
  {
   "cell_type": "code",
   "execution_count": null,
   "metadata": {},
   "outputs": [],
   "source": [
    "#op guest list\n",
    "with open(\"guest_list.txt\") as file_object:\n",
    "  contents = file_object.readlines()\n",
    "contents\n"
   ]
  },
  {
   "cell_type": "code",
   "execution_count": null,
   "metadata": {},
   "outputs": [],
   "source": [
    "#strip white space and split guest list into 2 lists\n",
    "person=[]\n",
    "vegetarian=[]\n",
    "\n",
    "for line in contents:\n",
    "  stripped=line.rstrip()\n",
    "  split=stripped.split(\"\\t\")\n",
    "  person.append(split[0])\n",
    "  vegetarian.append(split[1])\n",
    "\n",
    "person\n",
    "vegetarian"
   ]
  },
  {
   "cell_type": "code",
   "execution_count": null,
   "metadata": {},
   "outputs": [],
   "source": [
    "#create a new list with only the turkey eaters and use len to count them\n",
    "turkey_eaters=[]\n",
    "\n",
    "for veg in vegetarian:\n",
    "  if veg=='No' or veg==\"Sometimes\":\n",
    "    turkey_eaters.append(veg)\n",
    "len(turkey_eaters)\n",
    "print(len(turkey_eaters),\"people are eating turkey\")"
   ]
  },
  {
   "cell_type": "markdown",
   "metadata": {},
   "source": [
    "#Part 2"
   ]
  },
  {
   "cell_type": "code",
   "execution_count": null,
   "metadata": {},
   "outputs": [],
   "source": [
    "#save the count to an objec then open the turkey size txt\n",
    "bros=(len(turkey_eaters))\n",
    "bros\n",
    "\n",
    "with open(\"turkey_size.txt\") as file_object:\n",
    "  sizes = file_object.readlines()\n",
    "\n",
    "sizes\n"
   ]
  },
  {
   "cell_type": "code",
   "execution_count": null,
   "metadata": {},
   "outputs": [],
   "source": [
    "#split the turkey sizes in 2 strings based on tab delimiter\n",
    "people=[]\n",
    "pound=[]\n",
    "\n",
    "for line in sizes:\n",
    "  stripped=line.rstrip()\n",
    "  split=stripped.split(\"\\t\")\n",
    "  people.append(split[0])\n",
    "  pound.append(split[1])\n",
    "\n",
    "people\n",
    "pound"
   ]
  },
  {
   "cell_type": "code",
   "execution_count": null,
   "metadata": {},
   "outputs": [],
   "source": [
    "#pop the column name off the list and save them, then make the lists elements into integers\n",
    "guests=people.pop(0)\n",
    "lbs=pound.pop(0)\n",
    "guests\n",
    "\n",
    "for line in people:\n",
    "  int(line)\n",
    "  \n",
    "for line in pound:\n",
    "  int(line)"
   ]
  },
  {
   "cell_type": "code",
   "execution_count": null,
   "metadata": {},
   "outputs": [],
   "source": [
    "#import pandas and dataframe and use the packages to create a dataframe of the turkey data\n",
    "import pandas\n",
    "from pandas import DataFrame\n",
    "\n",
    "turkey_list=(people,pound)\n",
    "turkey_list\n",
    "\n",
    "\n",
    "df = DataFrame (turkey_list).transpose()\n",
    "df.columns = [guests,lbs]\n",
    "print (df)"
   ]
  },
  {
   "cell_type": "code",
   "execution_count": null,
   "metadata": {},
   "outputs": [],
   "source": [
    "#subset the parts of the dataframe that meet the minimum requirement then save the first row that meets the requirement\n",
    "df = df.apply(pandas.to_numeric)\n",
    "df2=df[df.Max_Guests > 14]\n",
    "df3=df2.iloc[[0]]\n",
    "\n",
    "#print only the lbs of the turkey you need\n",
    "df3\n",
    "df3=df3.set_index([pandas.Index([0])])\n",
    "turkey_poundage=df3._get_value(0,\"Min_Pounds\")\n",
    "print(f\"I need a turkey that wieghs:\",turkey_poundage,\"lbs atleast\")\n"
   ]
  },
  {
   "cell_type": "markdown",
   "metadata": {},
   "source": [
    "#Part3"
   ]
  },
  {
   "cell_type": "code",
   "execution_count": null,
   "metadata": {},
   "outputs": [],
   "source": [
    "#write the three new guests to the original file\n",
    "with open(\"guest_list.txt\", \"a\") as file_object:\n",
    "    file_object.write(\"\\nLarry\\tNo\\nMoe\\tYes\\nCurly\\tSometimes\")"
   ]
  },
  {
   "cell_type": "code",
   "execution_count": null,
   "metadata": {},
   "outputs": [],
   "source": [
    "#repeat all the previous steps\n",
    "with open(\"guest_list.txt\") as file_object:\n",
    "  contents = file_object.readlines()\n",
    "contents\n",
    "\n",
    "person=[]\n",
    "vegetarian=[]\n",
    "\n",
    "for line in contents:\n",
    "  stripped=line.rstrip()\n",
    "  split=stripped.split(\"\\t\")\n",
    "  person.append(split[0])\n",
    "  vegetarian.append(split[1])\n",
    "\n",
    "person\n",
    "vegetarian\n",
    "\n",
    "\n",
    "turkey_eaters=[]\n",
    "\n",
    "for veg in vegetarian:\n",
    "  if veg=='No' or veg==\"Sometimes\":\n",
    "    turkey_eaters.append(veg)\n",
    "len(turkey_eaters)\n",
    "print(len(turkey_eaters),\"people are eating turkey\")\n",
    "\n",
    "#part2\n",
    "bros=(len(turkey_eaters))\n",
    "bros\n",
    "\n",
    "with open(\"turkey_size.txt\") as file_object:\n",
    "  sizes = file_object.readlines()\n",
    "\n",
    "sizes\n",
    "\n",
    "people=[]\n",
    "pound=[]\n",
    "\n",
    "for line in sizes:\n",
    "  stripped=line.rstrip()\n",
    "  split=stripped.split(\"\\t\")\n",
    "  people.append(split[0])\n",
    "  pound.append(split[1])\n",
    "\n",
    "people\n",
    "pound\n",
    "\n",
    "guests=people.pop(0)\n",
    "lbs=pound.pop(0)\n",
    "guests\n",
    "\n",
    "for line in people:\n",
    "  int(line)\n",
    "  \n",
    "for line in pound:\n",
    "  int(line)\n",
    "\n",
    "import pandas\n",
    "from pandas import DataFrame\n",
    "\n",
    "turkey_list=(people,pound)\n",
    "turkey_list\n",
    "\n",
    "\n",
    "df = DataFrame (turkey_list).transpose()\n",
    "df.columns = [guests,lbs]\n",
    "print (df)\n",
    "\n",
    "df = df.apply(pandas.to_numeric)\n",
    "df2=df[df.Max_Guests > bros]\n",
    "df3=df2.iloc[[0]]\n",
    "df3\n",
    "df3=df3.set_index([pandas.Index([0])])\n",
    "turkey_poundage=df3._get_value(0,\"Min_Pounds\")\n",
    "print(f\"I need a turkey that wieghs:\",turkey_poundage,\"lbs atleast\")\n"
   ]
  }
 ],
 "metadata": {
  "kernelspec": {
   "display_name": "Python 3",
   "language": "python",
   "name": "python3"
  },
  "language_info": {
   "codemirror_mode": {
    "name": "ipython",
    "version": 3
   },
   "file_extension": ".py",
   "mimetype": "text/x-python",
   "name": "python",
   "nbconvert_exporter": "python",
   "pygments_lexer": "ipython3",
   "version": "3.7.6"
  }
 },
 "nbformat": 4,
 "nbformat_minor": 4
}
